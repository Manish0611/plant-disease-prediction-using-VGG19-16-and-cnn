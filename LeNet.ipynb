{
  "nbformat": 4,
  "nbformat_minor": 0,
  "metadata": {
    "colab": {
      "provenance": [],
      "gpuType": "T4"
    },
    "kernelspec": {
      "name": "python3",
      "display_name": "Python 3"
    },
    "language_info": {
      "name": "python"
    },
    "accelerator": "GPU"
  },
  "cells": [
    {
      "cell_type": "code",
      "execution_count": 3,
      "metadata": {
        "id": "NfNWSTi9AU2o"
      },
      "outputs": [],
      "source": [
        "! mkdir ~/.kaggle"
      ]
    },
    {
      "cell_type": "code",
      "source": [
        "!cp /content/drive/MyDrive/Colab\\ Notebooks/kaggle.json ~/.kaggle/kaggle.json"
      ],
      "metadata": {
        "id": "bar4DtT3AjXk"
      },
      "execution_count": 4,
      "outputs": []
    },
    {
      "cell_type": "code",
      "source": [
        "! chmod 600 ~/.kaggle/kaggle.json"
      ],
      "metadata": {
        "id": "7H9CcVXrAkAH"
      },
      "execution_count": 5,
      "outputs": []
    },
    {
      "cell_type": "code",
      "source": [
        "! kaggle datasets download kaustubhb999/tomatoleaf"
      ],
      "metadata": {
        "colab": {
          "base_uri": "https://localhost:8080/"
        },
        "id": "wg9ulVSRA3qx",
        "outputId": "f38b7b3b-90a6-4ad0-8c5a-7fdec979cc4a"
      },
      "execution_count": 6,
      "outputs": [
        {
          "output_type": "stream",
          "name": "stdout",
          "text": [
            "Downloading tomatoleaf.zip to /content\n",
            " 98% 175M/179M [00:01<00:00, 173MB/s]\n",
            "100% 179M/179M [00:01<00:00, 152MB/s]\n"
          ]
        }
      ]
    },
    {
      "cell_type": "code",
      "source": [
        "! unzip /content/tomatoleaf.zip"
      ],
      "metadata": {
        "id": "rOg4mlPOA4a5"
      },
      "execution_count": null,
      "outputs": []
    },
    {
      "cell_type": "code",
      "source": [
        "import os\n",
        "num_classes=len(os.listdir(\"/content/tomato/train\"))\n",
        "num_classes"
      ],
      "metadata": {
        "colab": {
          "base_uri": "https://localhost:8080/"
        },
        "id": "v7YrzTOpA5Z-",
        "outputId": "90c98bde-2747-44be-f13d-a070bd8481d8"
      },
      "execution_count": 8,
      "outputs": [
        {
          "output_type": "execute_result",
          "data": {
            "text/plain": [
              "10"
            ]
          },
          "metadata": {},
          "execution_count": 8
        }
      ]
    },
    {
      "cell_type": "code",
      "source": [
        "from keras.preprocessing.image import ImageDataGenerator"
      ],
      "metadata": {
        "id": "SRf6EFVvA6U9"
      },
      "execution_count": 9,
      "outputs": []
    },
    {
      "cell_type": "code",
      "source": [
        "train_datagen = ImageDataGenerator(\n",
        "        rescale=1./255,\n",
        "        shear_range=0.2,\n",
        "        zoom_range=0.2,\n",
        "        horizontal_flip=True)"
      ],
      "metadata": {
        "id": "I76lXTJ1A7QI"
      },
      "execution_count": 10,
      "outputs": []
    },
    {
      "cell_type": "code",
      "source": [
        "test_datagen = ImageDataGenerator(rescale=1./255)"
      ],
      "metadata": {
        "id": "bKTT0OquA-KV"
      },
      "execution_count": 11,
      "outputs": []
    },
    {
      "cell_type": "code",
      "source": [
        "training_set = train_datagen.flow_from_directory(\n",
        "    '/content/tomato/train',\n",
        "    target_size=(128, 128),\n",
        "    batch_size=64,\n",
        "    class_mode='categorical' )\n",
        "\n",
        "test_set=test_datagen.flow_from_directory(\n",
        "    '/content/tomato/val',\n",
        "    target_size=(128,128),\n",
        "    batch_size=64,\n",
        "    class_mode='categorical' )"
      ],
      "metadata": {
        "colab": {
          "base_uri": "https://localhost:8080/"
        },
        "id": "TCkhP6xqA_dv",
        "outputId": "62d26932-c273-4f2c-afda-dd7f29a75b0d"
      },
      "execution_count": 12,
      "outputs": [
        {
          "output_type": "stream",
          "name": "stdout",
          "text": [
            "Found 10000 images belonging to 10 classes.\n",
            "Found 1000 images belonging to 10 classes.\n"
          ]
        }
      ]
    },
    {
      "cell_type": "code",
      "source": [
        "label_map = (training_set.class_indices)\n",
        "\n",
        "print(label_map)"
      ],
      "metadata": {
        "colab": {
          "base_uri": "https://localhost:8080/"
        },
        "id": "pzTwkazSBApb",
        "outputId": "b38dcfe3-4bc2-4f6d-e936-e2e6b2c4f407"
      },
      "execution_count": 13,
      "outputs": [
        {
          "output_type": "stream",
          "name": "stdout",
          "text": [
            "{'Tomato___Bacterial_spot': 0, 'Tomato___Early_blight': 1, 'Tomato___Late_blight': 2, 'Tomato___Leaf_Mold': 3, 'Tomato___Septoria_leaf_spot': 4, 'Tomato___Spider_mites Two-spotted_spider_mite': 5, 'Tomato___Target_Spot': 6, 'Tomato___Tomato_Yellow_Leaf_Curl_Virus': 7, 'Tomato___Tomato_mosaic_virus': 8, 'Tomato___healthy': 9}\n"
          ]
        }
      ]
    },
    {
      "cell_type": "code",
      "source": [
        "import tensorflow as tf\n",
        "from tensorflow.keras import layers, models\n",
        "from keras.optimizers import Adam\n",
        "from keras.callbacks import ModelCheckpoint\n",
        "from keras.models import load_model\n",
        "from keras.utils import to_categorical\n",
        "from sklearn.metrics import accuracy_score\n",
        "from keras.losses import categorical_crossentropy\n",
        "import matplotlib.pyplot as plt\n",
        "import numpy as np\n",
        "import os"
      ],
      "metadata": {
        "id": "daNlJbHmT0Jp"
      },
      "execution_count": 22,
      "outputs": []
    },
    {
      "cell_type": "code",
      "source": [
        "def LeNet():\n",
        "    model = models.Sequential()\n",
        "\n",
        "    model.add(layers.Conv2D(6, (5, 5), activation='relu', input_shape=(128,128,3)))\n",
        "    model.add(layers.AveragePooling2D())\n",
        "\n",
        "    model.add(layers.Conv2D(16, (5, 5), activation='relu'))\n",
        "    model.add(layers.AveragePooling2D())\n",
        "\n",
        "    model.add(layers.Flatten())\n",
        "\n",
        "    model.add(layers.Dense(120, activation='relu'))\n",
        "    model.add(layers.Dense(84, activation='relu'))\n",
        "    model.add(layers.Dense(10, activation='softmax'))\n",
        "\n",
        "    return model"
      ],
      "metadata": {
        "id": "rE-upyTuT-IT"
      },
      "execution_count": 23,
      "outputs": []
    },
    {
      "cell_type": "code",
      "source": [
        "model = LeNet()\n",
        "\n",
        "model.compile(optimizer=Adam(learning_rate=0.001), loss=categorical_crossentropy, metrics=['accuracy'])"
      ],
      "metadata": {
        "id": "rQ9NpPHhV0Fc"
      },
      "execution_count": 24,
      "outputs": []
    },
    {
      "cell_type": "code",
      "source": [
        "model.fit_generator(\n",
        "    training_set,\n",
        "    steps_per_epoch=len(training_set),\n",
        "    epochs=10,\n",
        "    validation_data=test_set,\n",
        "    validation_steps=len(test_set)\n",
        ")"
      ],
      "metadata": {
        "colab": {
          "base_uri": "https://localhost:8080/"
        },
        "id": "HhWE10cUWFCv",
        "outputId": "3d825f17-26ab-4088-d099-1dad0f9bde00"
      },
      "execution_count": 25,
      "outputs": [
        {
          "output_type": "stream",
          "name": "stderr",
          "text": [
            "<ipython-input-25-8fe9bdae9929>:1: UserWarning: `Model.fit_generator` is deprecated and will be removed in a future version. Please use `Model.fit`, which supports generators.\n",
            "  model.fit_generator(\n"
          ]
        },
        {
          "output_type": "stream",
          "name": "stdout",
          "text": [
            "Epoch 1/10\n",
            "157/157 [==============================] - 60s 343ms/step - loss: 1.6667 - accuracy: 0.4113 - val_loss: 1.2107 - val_accuracy: 0.5770\n",
            "Epoch 2/10\n",
            "157/157 [==============================] - 51s 328ms/step - loss: 0.9878 - accuracy: 0.6597 - val_loss: 0.9608 - val_accuracy: 0.6430\n",
            "Epoch 3/10\n",
            "157/157 [==============================] - 54s 346ms/step - loss: 0.7607 - accuracy: 0.7333 - val_loss: 0.7999 - val_accuracy: 0.7250\n",
            "Epoch 4/10\n",
            "157/157 [==============================] - 50s 320ms/step - loss: 0.6454 - accuracy: 0.7740 - val_loss: 0.6412 - val_accuracy: 0.7920\n",
            "Epoch 5/10\n",
            "157/157 [==============================] - 53s 338ms/step - loss: 0.5170 - accuracy: 0.8220 - val_loss: 0.5632 - val_accuracy: 0.8140\n",
            "Epoch 6/10\n",
            "157/157 [==============================] - 51s 325ms/step - loss: 0.4940 - accuracy: 0.8320 - val_loss: 0.5269 - val_accuracy: 0.8110\n",
            "Epoch 7/10\n",
            "157/157 [==============================] - 51s 322ms/step - loss: 0.4425 - accuracy: 0.8449 - val_loss: 0.7276 - val_accuracy: 0.7690\n",
            "Epoch 8/10\n",
            "157/157 [==============================] - 51s 327ms/step - loss: 0.4064 - accuracy: 0.8549 - val_loss: 0.5907 - val_accuracy: 0.8020\n",
            "Epoch 9/10\n",
            "157/157 [==============================] - 50s 316ms/step - loss: 0.3826 - accuracy: 0.8672 - val_loss: 0.5223 - val_accuracy: 0.8220\n",
            "Epoch 10/10\n",
            "157/157 [==============================] - 51s 327ms/step - loss: 0.3861 - accuracy: 0.8624 - val_loss: 0.4563 - val_accuracy: 0.8390\n"
          ]
        },
        {
          "output_type": "execute_result",
          "data": {
            "text/plain": [
              "<keras.src.callbacks.History at 0x7961ae2ebcd0>"
            ]
          },
          "metadata": {},
          "execution_count": 25
        }
      ]
    },
    {
      "cell_type": "code",
      "source": [
        "model.save('tomato_disease_classifier_LeNet.h5')"
      ],
      "metadata": {
        "colab": {
          "base_uri": "https://localhost:8080/"
        },
        "id": "NGVkdryVXU93",
        "outputId": "f23d6f01-c306-4a57-f311-82bef180c38b"
      },
      "execution_count": 26,
      "outputs": [
        {
          "output_type": "stream",
          "name": "stderr",
          "text": [
            "/usr/local/lib/python3.10/dist-packages/keras/src/engine/training.py:3103: UserWarning: You are saving your model as an HDF5 file via `model.save()`. This file format is considered legacy. We recommend using instead the native Keras format, e.g. `model.save('my_model.keras')`.\n",
            "  saving_api.save_model(\n"
          ]
        }
      ]
    },
    {
      "cell_type": "code",
      "source": [
        "model = load_model('tomato_disease_classifier_LeNet.h5')\n",
        "\n",
        "predictions = model.predict(test_set, steps=len(test_set))\n",
        "predictions = np.argmax(predictions, axis=1)\n",
        "\n",
        "y_true = test_set.classes\n",
        "y_pred = predictions\n",
        "\n",
        "accuracy = accuracy_score(y_true, y_pred)\n",
        "\n",
        "print('Accuracy:', accuracy)"
      ],
      "metadata": {
        "colab": {
          "base_uri": "https://localhost:8080/"
        },
        "id": "WEQiHlAcXY_M",
        "outputId": "a56e6066-d72e-4e6b-9574-b75b0166bdea"
      },
      "execution_count": 28,
      "outputs": [
        {
          "output_type": "stream",
          "name": "stdout",
          "text": [
            "16/16 [==============================] - 1s 69ms/step\n",
            "Accuracy: 0.115\n"
          ]
        }
      ]
    }
  ]
}